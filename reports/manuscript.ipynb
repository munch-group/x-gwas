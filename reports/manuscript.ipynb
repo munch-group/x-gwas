{
 "cells": [
  {
   "cell_type": "markdown",
   "id": "5233e964-1e76-4aa3-bb48-2fcc8bcdde92",
   "metadata": {},
   "source": [
    "---\n",
    "title: My manuscript\n",
    "author: My Name\n",
    "date: 'April 25nd, 2024'\n",
    "format:\n",
    " html:\n",
    "  code-fold: true\n",
    "---"
   ]
  },
  {
   "cell_type": "markdown",
   "id": "6ac7e6bb-59fe-436c-9edf-71fe6f378f50",
   "metadata": {},
   "source": [
    "## Abstract\n",
    "\n",
    "This is my report about Denmark... blah, blah, blah, blah, blah, blah, blah, blah, blah, blah, blah, blah, blah, blah, blah, blah, blah, blah, blah, blah, blah, blah, blah, blah, blah, blah, blah, blah, blah, blah, blah, blah, blah, blah, blah, blah, blah, blah, blah"
   ]
  },
  {
   "cell_type": "markdown",
   "id": "f15834fb-49c9-4244-b725-a08c695001b4",
   "metadata": {},
   "source": [
    "## Introduction\n",
    "\n",
    "Denmark is .... blah, blah, blah, blah, blah, blah, blah, blah, blah, blah, blah, blah, blah, blah, blah, blah, blah, blah, blah, blah, blah, blah, blah, blah, blah, blah, blah, blah, blah, blah, blah, blah, blah, blah, blah, blah, blah, blah, blah, blah, blah, blah, blah, blah, blah"
   ]
  },
  {
   "cell_type": "markdown",
   "id": "a9469f7c-70c2-4175-a586-29450e2b0497",
   "metadata": {},
   "source": [
    "## Results\n",
    "\n",
    "### Weather\n",
    "\n",
    "As shown in @fig-danish-weather, the Danish weather is blah, blah, blah, blah, blah, blah, blah, blah, blah, blah, blah, blah, blah, blah, blah, blah, blah, blah, blah, blah, blah, blah, blah, blah, blah, blah, blah, blah, blah, blah, blah, blah, blah, blah, blah, blah, blah, blah, blah, blah, blah, blah, blah, blah, blah.\n",
    "\n",
    "{{< embed ../notebooks/01_weather.ipynb#fig-danish-weather >}}\n",
    "\n",
    "### Social norms\n",
    "\n",
    "In Denmark, the workplace interaction is very informal and largely unaffected by seniority and age. \n",
    "\n",
    "{{< embed ../notebooks/02_interaction.ipynb#doc-sampling echo=false >}}\n",
    "\n",
    "I found that neither academic seniority or age of workplace individuals much affected how informal our interaction was (see @fig-danish-interaction). \n",
    "\n",
    "{{< embed ../notebooks/02_interaction.ipynb#fig-danish-interaction >}}\n",
    "\n",
    "<!-- a bug in quarto does not allow successive embeds witout somthing in between (like this) -->\n",
    "\n",
    "{{< embed ../notebooks/02_interaction.ipynb#doc-formality-correlation echo=false >}}"
   ]
  },
  {
   "cell_type": "markdown",
   "id": "4629d318-7425-4e9d-b3fc-c6999afcd847",
   "metadata": {},
   "source": [
    "## Discussion\n",
    "\n",
    "This this investigation of Danes..., blah, blah, blah, blah, blah, blah, blah, blah, blah, blah, blah, blah, blah, blah, blah, blah, blah, blah, blah, blah, blah, blah, blah, blah, blah, blah, blah, blah, blah, blah, blah, blah, blah, blah, blah, blah, blah, blah, blah, blah, blah, blah, blah, blah, blah.\n",
    "\n",
    "## Methods\n",
    "\n",
    "### Weather analysis\n",
    "\n",
    "{{< embed ../notebooks/01_weather.ipynb#doc-weather-data echo=false >}}\n",
    "\n",
    "### Interaction analysis\n",
    "\n",
    "{{< embed ../notebooks/02_interaction.ipynb#doc-interviews echo=false >}}"
   ]
  },
  {
   "cell_type": "code",
   "execution_count": null,
   "id": "5730d18b-ada0-4303-b867-ed549dcd2a06",
   "metadata": {},
   "outputs": [],
   "source": []
  }
 ],
 "metadata": {
  "kernelspec": {
   "display_name": "Python 3 (ipykernel)",
   "language": "python",
   "name": "python3"
  },
  "language_info": {
   "codemirror_mode": {
    "name": "ipython",
    "version": 3
   },
   "file_extension": ".py",
   "mimetype": "text/x-python",
   "name": "python",
   "nbconvert_exporter": "python",
   "pygments_lexer": "ipython3",
   "version": "3.12.2"
  }
 },
 "nbformat": 4,
 "nbformat_minor": 5
}
